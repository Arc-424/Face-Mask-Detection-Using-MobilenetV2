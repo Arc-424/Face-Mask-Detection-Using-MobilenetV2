{
 "cells": [
  {
   "cell_type": "code",
   "execution_count": 2,
   "id": "circular-military",
   "metadata": {},
   "outputs": [],
   "source": [
    "import os"
   ]
  },
  {
   "cell_type": "code",
   "execution_count": 1,
   "id": "wrong-safety",
   "metadata": {},
   "outputs": [],
   "source": [
    "DIRECTORY = r\"C:\\\\\\Users\\\\Archit choudhary\\\\OneDrive\\\\Desktop\\\\app\\\\Mask Detection Using Mobilenet\\\\Face-Mask-Detection-master\\\\Face-Mask-Detection-master\\\\dataset\""
   ]
  },
  {
   "cell_type": "code",
   "execution_count": 3,
   "id": "anticipated-tobacco",
   "metadata": {},
   "outputs": [],
   "source": [
    "CATEGORIES = [\"with_mask\", \"without_mask\"]"
   ]
  },
  {
   "cell_type": "code",
   "execution_count": 7,
   "id": "saved-maple",
   "metadata": {},
   "outputs": [],
   "source": [
    "for category in CATEGORIES:\n",
    "    path = os.path.join(DIRECTORY, category)\n",
    "    for img in os.listdir(path):\n",
    "    \timg_path = os.path.join(path, img)"
   ]
  },
  {
   "cell_type": "code",
   "execution_count": 9,
   "id": "healthy-convert",
   "metadata": {},
   "outputs": [
    {
     "data": {
      "text/plain": [
       "'C:\\\\\\\\\\\\Users\\\\\\\\Archit choudhary\\\\\\\\OneDrive\\\\\\\\Desktop\\\\\\\\app\\\\\\\\Mask Detection Using Mobilenet\\\\\\\\Face-Mask-Detection-master\\\\\\\\Face-Mask-Detection-master\\\\\\\\dataset\\\\without_mask\\\\augmented_image_99.jpg'"
      ]
     },
     "execution_count": 9,
     "metadata": {},
     "output_type": "execute_result"
    }
   ],
   "source": [
    "img_path"
   ]
  },
  {
   "cell_type": "code",
   "execution_count": null,
   "id": "blocked-senate",
   "metadata": {},
   "outputs": [],
   "source": []
  },
  {
   "cell_type": "code",
   "execution_count": null,
   "id": "eligible-marriage",
   "metadata": {},
   "outputs": [],
   "source": []
  }
 ],
 "metadata": {
  "kernelspec": {
   "display_name": "Python 3",
   "language": "python",
   "name": "python3"
  },
  "language_info": {
   "codemirror_mode": {
    "name": "ipython",
    "version": 3
   },
   "file_extension": ".py",
   "mimetype": "text/x-python",
   "name": "python",
   "nbconvert_exporter": "python",
   "pygments_lexer": "ipython3",
   "version": "3.7.4"
  }
 },
 "nbformat": 4,
 "nbformat_minor": 5
}
